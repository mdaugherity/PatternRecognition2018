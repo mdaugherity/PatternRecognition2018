{
 "cells": [
  {
   "cell_type": "markdown",
   "metadata": {},
   "source": [
    "# Multiclass Exercise\n",
    "How do we deal with multiple (>2) classes when our classifier only works with 2?\n"
   ]
  },
  {
   "cell_type": "markdown",
   "metadata": {},
   "source": [
    "***\n",
    "# BACKGROUND\n",
    "\n",
    "Let's look at the built in linear SVC on the Iris (3 category) dataset\n"
   ]
  },
  {
   "cell_type": "code",
   "execution_count": 3,
   "metadata": {},
   "outputs": [],
   "source": [
    "import numpy as np\n",
    "import matplotlib.pyplot as plt\n",
    "%matplotlib inline\n",
    "from sklearn import svm, linear_model, datasets\n"
   ]
  },
  {
   "cell_type": "code",
   "execution_count": 4,
   "metadata": {},
   "outputs": [],
   "source": [
    "def make_meshgrid(x, y, h=.02):\n",
    "    x_min, x_max = x.min() - 1, x.max() + 1\n",
    "    y_min, y_max = y.min() - 1, y.max() + 1\n",
    "    xx, yy = np.meshgrid(np.arange(x_min, x_max, h),\n",
    "                         np.arange(y_min, y_max, h))\n",
    "    return xx, yy\n",
    "\n",
    "\n",
    "def plot_contours(ax, clf, xx, yy, **params):\n",
    "    Z = clf.predict(np.c_[xx.ravel(), yy.ravel()])\n",
    "    Z = Z.reshape(xx.shape)\n",
    "    out = ax.contourf(xx, yy, Z, **params)\n",
    "    return out"
   ]
  },
  {
   "cell_type": "code",
   "execution_count": 9,
   "metadata": {},
   "outputs": [],
   "source": [
    "# Following the same data procedure from Tutorial 5\n",
    "iris = datasets.load_iris()\n",
    "X = iris.data[:, :2]\n",
    "y = iris.target\n",
    "\n",
    "lin = svm.SVC(kernel='linear').fit(X,y)"
   ]
  },
  {
   "cell_type": "code",
   "execution_count": 19,
   "metadata": {},
   "outputs": [
    {
     "data": {
      "image/png": "[encoded data removed]",
      "text/plain": [
       "<matplotlib.figure.Figure at 0x1e830db2d30>"
      ]
     },
     "metadata": {},
     "output_type": "display_data"
    }
   ],
   "source": [
    "plt.figure(figsize=(8,8))\n",
    "xlim = np.array([5.7,6.3]) # zoom in on the middle\n",
    "ylim = np.array([3.2,3.8])\n",
    "xx,yy = make_meshgrid(xlim,ylim)\n",
    "ax = plt.subplot(111)\n",
    "plot_contours(ax, lin, xx, yy, cmap='RdYlBu', alpha=0.8)\n",
    "#plt.scatter(X0, X1, c=y, cmap='RdYlBu', s=100, edgecolors='k')\n",
    "\n",
    "plt.show()"
   ]
  },
  {
   "cell_type": "markdown",
   "metadata": {},
   "source": [
    "## WHY DO WE GET THE WEIRD NOTCH IN THE MIDDLE?\n",
    "***\n",
    "\n",
    "# EXERCISE\n",
    "To see how we deal with multiclass problems, let's define 3 datasets and train a classifier on each.  Then write a function to poll the 3 classifiers for decisions"
   ]
  },
  {
   "cell_type": "code",
   "execution_count": 12,
   "metadata": {},
   "outputs": [],
   "source": [
    "# Classes 0 and 1\n",
    "X01 = X[y != 2]\n",
    "y01 = y[y != 2]\n",
    "\n",
    "# Classes 1 and 2\n",
    "X12 = X[y != 0]\n",
    "y12 = y[y != 0]\n",
    "\n",
    "# Classes 0 and 2\n",
    "X02 = X[y != 1]\n",
    "y02 = y[y != 1]"
   ]
  },
  {
   "cell_type": "markdown",
   "metadata": {},
   "source": []
  }
 ],
 "metadata": {
  "kernelspec": {
   "display_name": "Python 3",
   "language": "python",
   "name": "python3"
  },
  "language_info": {
   "codemirror_mode": {
    "name": "ipython",
    "version": 3
   },
   "file_extension": ".py",
   "mimetype": "text/x-python",
   "name": "python",
   "nbconvert_exporter": "python",
   "pygments_lexer": "ipython3",
   "version": "3.6.3"
  }
 },
 "nbformat": 4,
 "nbformat_minor": 2
}
