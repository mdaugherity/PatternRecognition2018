{
 "cells": [
  {
   "cell_type": "markdown",
   "metadata": {},
   "source": [
    "Basics of Python\n",
    "========\n"
   ]
  },
  {
   "cell_type": "markdown",
   "metadata": {},
   "source": [
    "Here I will show how to do a simple for loop and a simple while loop\n",
    "------------"
   ]
  },
  {
   "cell_type": "markdown",
   "metadata": {},
   "source": [
    "For a for loop in python, give it a variable, a range, and then a semicolon. Don't forget to tab in whatever you are looping over. Python does not use brackets, it uses tabs.  "
   ]
  },
  {
   "cell_type": "code",
   "execution_count": 11,
   "metadata": {},
   "outputs": [
    {
     "name": "stdout",
     "output_type": "stream",
     "text": [
      "Wow Rachael is cool\n",
      "Wow Rachael is cool\n",
      "Wow Rachael is cool\n",
      "Wow Rachael is cool\n",
      "Wow Rachael is cool\n"
     ]
    }
   ],
   "source": [
    "for x in range (5):\n",
    "    print (\"Wow Rachael is cool\")"
   ]
  },
  {
   "cell_type": "markdown",
   "metadata": {},
   "source": [
    "For a while loop, give it a condition, and anything inside the while loop needs to be indented\n",
    "-------------------"
   ]
  },
  {
   "cell_type": "code",
   "execution_count": 14,
   "metadata": {},
   "outputs": [
    {
     "name": "stdout",
     "output_type": "stream",
     "text": [
      "Rachael is the best python teacher\n",
      "Rachael is the best python teacher\n",
      "Rachael is the best python teacher\n",
      "Rachael is the best python teacher\n"
     ]
    }
   ],
   "source": [
    "count = 4\n",
    "while (count > 0):\n",
    "    print (\"Rachael is the best python teacher\")\n",
    "    count = count - 1"
   ]
  },
  {
   "cell_type": "markdown",
   "metadata": {},
   "source": [
    "Now I will teach you how to make an array (python is dumb and calls them \"lists\") and increment everything in it by 1\n",
    "----------"
   ]
  },
  {
   "cell_type": "code",
   "execution_count": 22,
   "metadata": {},
   "outputs": [
    {
     "name": "stdout",
     "output_type": "stream",
     "text": [
      "1\n",
      "2\n",
      "3\n",
      "4\n",
      "5\n",
      "6\n",
      "\n",
      "\n",
      "2\n",
      "3\n",
      "4\n",
      "5\n",
      "6\n",
      "7\n"
     ]
    }
   ],
   "source": [
    "example = [1, 2, 3, 4, 5, 6]\n",
    "\n",
    "for x in example:\n",
    "    print (x)\n",
    "print (\"\\n\")\n",
    "for x in example: # this increments everything by 1\n",
    "    x = x + 1\n",
    "    print (x)"
   ]
  },
  {
   "cell_type": "code",
   "execution_count": null,
   "metadata": {},
   "outputs": [],
   "source": []
  }
 ],
 "metadata": {
  "kernelspec": {
   "display_name": "Python 3",
   "language": "python",
   "name": "python3"
  },
  "language_info": {
   "codemirror_mode": {
    "name": "ipython",
    "version": 3
   },
   "file_extension": ".py",
   "mimetype": "text/x-python",
   "name": "python",
   "nbconvert_exporter": "python",
   "pygments_lexer": "ipython3",
   "version": "3.6.3"
  }
 },
 "nbformat": 4,
 "nbformat_minor": 2
}
