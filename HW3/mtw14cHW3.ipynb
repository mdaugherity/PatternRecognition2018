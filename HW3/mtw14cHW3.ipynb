{
 "cells": [
  {
   "cell_type": "markdown",
   "metadata": {},
   "source": [
    "***"
   ]
  },
  {
   "cell_type": "markdown",
   "metadata": {},
   "source": [
    "Name: Dr D  \n",
    "Class: Pattern Recognition Spring 2018\n",
    "\n",
    "# Won't You Be my Neighbor?\n",
    "\n",
    "By Matthew Williams"
   ]
  },
  {
   "cell_type": "markdown",
   "metadata": {},
   "source": [
    "## Problem Description\n",
    "\n",
    "Using the sklearn digits dataset, train a nearest neighbor classifier and use it to classify your own writing samples."
   ]
  },
  {
   "cell_type": "markdown",
   "metadata": {},
   "source": [
    "## Solution Method\n",
    "\n",
    "I drew my own digits using GIMP, a free piece of graphic software for most systems. I used sklearn, skimage, and numpy to manipulate the data held in these images and matplotlib to draw them.  "
   ]
  },
  {
   "cell_type": "markdown",
   "metadata": {},
   "source": [
    "## Input\n",
    "\n",
    "Here I train the classifier and import my own writing samples"
   ]
  },
  {
   "cell_type": "code",
   "execution_count": 338,
   "metadata": {},
   "outputs": [
    {
     "name": "stdout",
     "output_type": "stream",
     "text": [
      "Score on classifying the testing part of the original data set: 0.98\n"
     ]
    }
   ],
   "source": [
    "from sklearn.datasets import load_digits\n",
    "from sklearn import model_selection\n",
    "from sklearn.neighbors import DistanceMetric, KNeighborsClassifier\n",
    "from skimage import data\n",
    "from skimage import io\n",
    "import numpy as np\n",
    "import matplotlib.pyplot as plt\n",
    "X, y = load_digits(return_X_y = True)\n",
    "#print(X.shape)\n",
    "#print(y.shape)\n",
    "neigh = KNeighborsClassifier(n_neighbors=3, weights='distance')\n",
    "trainX, testX, trainy, testy = model_selection.train_test_split(X,y)\n",
    "#print(trainX.shape,trainy.shape,testX.shape,testy.shape)\n",
    "neigh.fit(trainX,trainy)\n",
    "print(\"Score on classifying the testing part of the original data set: \" + str(neigh.score(testX,testy)))\n",
    "# wow! Pretty good classifier!\n"
   ]
  },
  {
   "cell_type": "code",
   "execution_count": 339,
   "metadata": {},
   "outputs": [
    {
     "data": {
      "image/png": "[encoded data removed]",
      "text/plain": [
       "<matplotlib.figure.Figure at 0x2a5d58d8198>"
      ]
     },
     "metadata": {},
     "output_type": "display_data"
    },
    {
     "name": "stdout",
     "output_type": "stream",
     "text": [
      "<class 'numpy.float64'>\n",
      "<class 'numpy.float64'>\n"
     ]
    }
   ],
   "source": [
    "my0 = io.imread(\"0.png\",as_grey=True)\n",
    "def f (x):\n",
    "    return int(round(abs(x-1)*15))\n",
    "\n",
    "f = np.vectorize(f)\n",
    "my0 = f(my0)\n",
    "\n",
    "fig = plt.figure(figsize=(10, 5))  # figure size in inches\n",
    "fig.subplots_adjust(left=0, right=1, bottom=0, top=.5, hspace=0.05, wspace=0.05)\n",
    "myNums = np.ndarray((0,0))\n",
    "\n",
    "for i in range(0,10):\n",
    "    img = io.imread(str(i) + \".png\", as_grey=True)\n",
    "    img = f(img)\n",
    "    myNums = np.append(myNums,img)\n",
    "    ax = fig.add_subplot(2,10, i+1, xticks=[], yticks=[])\n",
    "    ax.imshow(img, cmap=plt.cm.binary, interpolation='nearest')\n",
    "    # label the image with the target value\n",
    "    ax.text(0, 7, str(i))\n",
    "plt.show()\n",
    "\n",
    "# My handdrawn numbers\n",
    "myNums = np.reshape(myNums,(10,8,8))\n",
    "print(type(myNums[0][0][0]))\n",
    "print(type(trainX[0][0]))"
   ]
  },
  {
   "cell_type": "markdown",
   "metadata": {},
   "source": [
    "## Analysis/Results\n",
    "\n",
    "Here I use the classifier to predict the class of each of my own writing samples and compare it to the nearest neighbor, as well as an average of the three closest neighbors, which I included since the classifier makes decisions based off of three closest neighbors. Finally, I take a difference between my handwriting and the nearest neighbor - more because it is pretty than because it has much utility. "
   ]
  },
  {
   "cell_type": "code",
   "execution_count": 340,
   "metadata": {},
   "outputs": [
    {
     "name": "stdout",
     "output_type": "stream",
     "text": [
      "[0 2 2 3 9 5 6 7 9 9]\n"
     ]
    },
    {
     "data": {
      "image/png": "[encoded data removed]",
      "text/plain": [
       "<matplotlib.figure.Figure at 0x2a5dab7e860>"
      ]
     },
     "metadata": {},
     "output_type": "display_data"
    }
   ],
   "source": [
    "predictions = neigh.predict(np.reshape(myNums,(10,64)))\n",
    "print(predictions)\n",
    "neighbors = neigh.kneighbors(np.reshape(myNums,(10,64)),1)\n",
    "threeneighbors = neigh.kneighbors(np.reshape(myNums,(10,64)),3,return_distance=False)\n",
    "\n",
    "def average(*args):\n",
    "    sum = 0\n",
    "    for arg in args:\n",
    "        sum += arg\n",
    "    return int(round(sum / len(args)))\n",
    "averageV = np.vectorize(average)\n",
    "\n",
    "mneighs = np.ndarray((10,64))\n",
    "\n",
    "for i, a in enumerate(threeneighbors):\n",
    "    for b in a:\n",
    "        mneighs[i] += trainX[b] / len(threeneighbors)\n",
    "\n",
    "for i in range(0,10):\n",
    "    for j in range(0,64):\n",
    "        mneighs[i][j] = int(mneighs[i][j])\n",
    "\n",
    "fig = plt.figure(figsize=(12, 12))  # figure size in inches\n",
    "fig.subplots_adjust(left=0, right=1, bottom=0, top=.25, hspace=0.05, wspace=0.05)\n",
    "\n",
    "for j, i in enumerate(neighbors[1]):\n",
    "    ax = fig.add_subplot(3,10, j+1, xticks=[], yticks=[])\n",
    "    ax.imshow(np.reshape(trainX[i],(8,8)), cmap=plt.cm.binary, interpolation='nearest')\n",
    "    # label the image with the target value\n",
    "    ax.text(0, 7, str(trainy[i][0]))    \n",
    "    ax = fig.add_subplot(3,10, j+11, xticks=[], yticks=[])\n",
    "    ax.text(0, 7, str(predictions[j]))    \n",
    "    ax.imshow(np.reshape(mneighs[j],(8,8)), cmap=plt.cm.binary, interpolation='nearest')\n",
    "    ax = fig.add_subplot(3,10, j+21, xticks=[], yticks=[])\n",
    "    ax.imshow(myNums[j], cmap=plt.cm.binary, interpolation='nearest')\n",
    "    ax.text(0, 7, str(j))\n",
    "plt.show()\n",
    "    \n",
    "    \n",
    "# nearest neighbor is show on top,\n",
    "# then an average of the three closest neighbors (which is what the classifier is actually deciding off of), \n",
    "# and the hand-drawn number on bottom"
   ]
  },
  {
   "cell_type": "code",
   "execution_count": 341,
   "metadata": {},
   "outputs": [
    {
     "data": {
      "image/png": "[encoded data removed]",
      "text/plain": [
       "<matplotlib.figure.Figure at 0x2a5dd55b9e8>"
      ]
     },
     "metadata": {},
     "output_type": "display_data"
    }
   ],
   "source": [
    "def cleanup(x):\n",
    "    return int(round(abs(x)))\n",
    "cleanupArray = np.vectorize(cleanup)\n",
    "\n",
    "\n",
    "diff = np.ndarray((10,64))\n",
    "for i in range(0,10):\n",
    "    diff[i] = np.reshape(myNums[i],(64)) - trainX[neighbors[1][i]]\n",
    "    diff[i] = cleanupArray(diff[i])\n",
    "\n",
    "    \n",
    "fig = plt.figure(figsize=(12, 12))  # figure size in inches\n",
    "fig.subplots_adjust(left=0, right=1, bottom=0, top=.25, hspace=0.05, wspace=0.05)\n",
    "\n",
    "for i in range(0,10):\n",
    "    ax = fig.add_subplot(1,10, i+1, xticks=[], yticks=[])\n",
    "    ax.imshow(np.reshape(diff[i],(8,8)), cmap=\"magma\")\n",
    "    ax.text(0, 7, str(i))\n",
    "plt.show()\n",
    "# Here I show the difference between my numbers and the nearest neighbor to them."
   ]
  },
  {
   "cell_type": "markdown",
   "metadata": {},
   "source": [
    "## Discussion\n",
    "\n",
    "Really the classification was fairly trivial, most of the difficulty lay in familiarizing myself with Python libraries for image manipulation and the different ways to group data (tuples, arrays, ndarrays, etc). I would like to try to compare my writing smaple to its nearest neighbor which belongs to the correct class, but I am unsure how to do that in any reasonably non-bruteforce way. "
   ]
  }
 ],
 "metadata": {
  "kernelspec": {
   "display_name": "Python 3",
   "language": "python",
   "name": "python3"
  },
  "language_info": {
   "codemirror_mode": {
    "name": "ipython",
    "version": 3
   },
   "file_extension": ".py",
   "mimetype": "text/x-python",
   "name": "python",
   "nbconvert_exporter": "python",
   "pygments_lexer": "ipython3",
   "version": "3.6.3"
  }
 },
 "nbformat": 4,
 "nbformat_minor": 2
}
