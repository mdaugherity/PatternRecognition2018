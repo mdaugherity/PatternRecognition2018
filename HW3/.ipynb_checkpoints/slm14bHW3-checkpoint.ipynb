{
 "cells": [
  {
   "cell_type": "markdown",
   "metadata": {},
   "source": [
    "Name: Sam Mulder\n",
    "\n",
    "Class: Pattern Recognition Spring 2018\n",
    "\n",
    "# Homework 3 - Won't you be my neighbor?"
   ]
  },
  {
   "cell_type": "markdown",
   "metadata": {},
   "source": [
    "## Problem Description\n",
    "\n",
    "The digits dataset in sklearn is a sample of a [more complete dataset](http://archive.ics.uci.edu/ml/datasets/Pen-Based+Recognition+of+Handwritten+Digits).  Ours has 1,797 examples of classified hand-written digits 0-9 stored as pixel arrays with color from 0 (white) to 15 (black).\n",
    "\n",
    "Your problem is to:\n",
    "* train a kNeighestNeighbors classifier on the digits set\n",
    "* demonstrate that your classifier works adequately well\n",
    "* load one sample of your handwriting for each of the 10 digits \n",
    "* classify each of your samples and display them side-by-side with their nearest neighbor in the digits dataset\n",
    "\n",
    "Notes:\n",
    "* [Tutorial 2-2](https://github.com/mdaugherity/PatternRecognition/blob/master/Tutorial%202-2.ipynb) covered the built-in datasets\n",
    "* The [return_X_y](http://scikit-learn.org/stable/modules/generated/sklearn.datasets.load_digits.html#sklearn.datasets.load_digits) parameter can make life easier\n",
    "* Notice in the digits dataset we get both digits.images as 8x8 2D arrays and digits.data as a 1D array.  Use the right one for the right thing.\n",
    "* There is a built in function to return neighbors.  Always read the documentation."
   ]
  },
  {
   "cell_type": "markdown",
   "metadata": {},
   "source": [
    "## Solution Method\n",
    "Our first goal will be to successfully implement the NearestNeighbor model to fit the digits dataset. We toyed with the parameters to achieve the most optimal settings for the KneighborsClassifier. Some of the parameters were determined based on my intuitive knowledge, such as my algorithm = 'auto' and p = 2. The algorithm was set to auto becuase it basically is able to decide the optimal method and is one less step for me to worry about. I talk about why an assumption of p = 2 makes sense. The second aspect of this assignment is to load in your own handwritten digets and apply the classifier to these test cases. I will use GIMP as a method to draw the images using a trackpad and export them as png's which can be imported using skimage.io. "
   ]
  },
  {
   "cell_type": "markdown",
   "metadata": {},
   "source": [
    "## Input"
   ]
  },
  {
   "cell_type": "code",
   "execution_count": 440,
   "metadata": {},
   "outputs": [
    {
     "name": "stdout",
     "output_type": "stream",
     "text": [
      "Pure data:\n",
      "(1797, 64)\n",
      "(1797,)\n"
     ]
    }
   ],
   "source": [
    "from sklearn.datasets import load_digits\n",
    "from sklearn.neighbors import NearestNeighbors\n",
    "from sklearn.neighbors import KNeighborsClassifier\n",
    "import matplotlib.pyplot as plt\n",
    "from sklearn.neighbors import KDTree\n",
    "import numpy as np\n",
    "from sklearn import model_selection\n",
    "import re\n",
    "import skimage.io\n",
    "\n",
    "%matplotlib inline\n",
    "\n",
    "digitsX, digitsY = load_digits(return_X_y = True)\n",
    "print('Pure data:')\n",
    "print(digitsX.data.shape)\n",
    "print(digitsY.data.shape)\n",
    "X_train, X_test, y_train, y_test = model_selection.train_test_split(digitsX, digitsY)\n"
   ]
  },
  {
   "cell_type": "markdown",
   "metadata": {},
   "source": [
    "## Analysis\n"
   ]
  },
  {
   "cell_type": "code",
   "execution_count": 441,
   "metadata": {},
   "outputs": [],
   "source": [
    "knrst = KNeighborsClassifier(n_neighbors = 1, algorithm = 'auto',p=2).fit(X_train.data,y_train.data)\n",
    "distances, indices = knrst.kneighbors(X_train.data)"
   ]
  },
  {
   "cell_type": "code",
   "execution_count": 442,
   "metadata": {},
   "outputs": [
    {
     "data": {
      "text/plain": [
       "0.99555555555555553"
      ]
     },
     "execution_count": 442,
     "metadata": {},
     "output_type": "execute_result"
    }
   ],
   "source": [
    "knrst.score(X_test, y_test)"
   ]
  },
  {
   "cell_type": "markdown",
   "metadata": {},
   "source": [
    "Here we have successfully demonstrated that the classifier works adequately well. Upon applying the classifier to the test data it achieved a score of .9977(before i re-ran the code) which is very impressive. I used n_neighbors = 2 becuase it empirically gave me the best results. It makes sense that I also used p = 2 becuase this results in using Euclidean distance metric. The problem does not indicate any directionality so using a more complicated distance metric is not necessary and will result in a less effective classifier."
   ]
  },
  {
   "cell_type": "markdown",
   "metadata": {},
   "source": [
    "# My Own Handwriting\n",
    "Now I will load in my own handwriting which I made in GIMP and exported as a .png. I will use skimage to load the data since it is from the same directory."
   ]
  },
  {
   "cell_type": "code",
   "execution_count": 443,
   "metadata": {},
   "outputs": [],
   "source": [
    "my0 = abs(15 * (1 - skimage.io.imread('Digits - 0.png',as_grey = True)))\n",
    "my1 = abs(15 * (1 - skimage.io.imread('Digits - 1.png',as_grey = True)))\n",
    "my2 = abs(15 * (1 - skimage.io.imread('Digits - 2.png',as_grey = True)))\n",
    "my3 = abs(15 * (1 - skimage.io.imread('Digits - 3.png',as_grey = True)))\n",
    "my4 = abs(15 * (1 - skimage.io.imread('Digits - 4.png',as_grey = True)))\n",
    "my5 = abs(15 * (1 - skimage.io.imread('Digits - 5.png',as_grey = True)))\n",
    "my6 = abs(15 * (1 - skimage.io.imread('Digits - 6.png',as_grey = True)))\n",
    "my7 = abs(15 * (1 - skimage.io.imread('Digits - 7.png',as_grey = True)))\n",
    "my8 = abs(15 * (1 - skimage.io.imread('Digits - 8.png',as_grey = True)))\n",
    "my9 = abs(15 * (1 - skimage.io.imread('Digits - 9.png',as_grey = True)))\n",
    "\n",
    "my0 = np.reshape(my0, (1,64))\n",
    "my1 = np.reshape(my1, (1,64))\n",
    "my2 = np.reshape(my2, (1,64))\n",
    "my3 = np.reshape(my3, (1,64))\n",
    "my4 = np.reshape(my4, (1,64))\n",
    "my5 = np.reshape(my5, (1,64))\n",
    "my6 = np.reshape(my6, (1,64))\n",
    "my7 = np.reshape(my7, (1,64))\n",
    "my8 = np.reshape(my8, (1,64))\n",
    "my9 = np.reshape(my9, (1,64))\n",
    "\n",
    "mydigits = np.concatenate([my0,my1,my2,my3,my4,my5,my6,my7,my8,my9],axis=0)"
   ]
  },
  {
   "cell_type": "code",
   "execution_count": 444,
   "metadata": {},
   "outputs": [],
   "source": [
    "mypred = knrst.predict(mydigits)\n",
    "correct = [0,1,2,3,4,5,6,7,8,9]\n",
    "neighbors = knrst.kneighbors(mydigits,return_distance = False)"
   ]
  },
  {
   "cell_type": "markdown",
   "metadata": {},
   "source": [
    "## Results\n",
    "Produce the lovely plots and/or data tables that best visualization your solution"
   ]
  },
  {
   "cell_type": "code",
   "execution_count": 445,
   "metadata": {},
   "outputs": [
    {
     "data": {
      "image/png": "[encoded data removed]",
      "text/plain": [
       "<matplotlib.figure.Figure at 0x1102d91d0>"
      ]
     },
     "metadata": {},
     "output_type": "display_data"
    }
   ],
   "source": [
    "fig = plt.figure(figsize=(10, 5))  # figure size in inches\n",
    "fig.subplots_adjust(left=0, right=1, bottom=0, top=1, hspace=0.05, wspace=0.05)\n",
    "\n",
    "for i in range(10):\n",
    "    ax = fig.add_subplot(2,10, i + 1, xticks=[], yticks=[])\n",
    "    ax.imshow(np.reshape(X_train[neighbors[i]],(8,8)), cmap=plt.cm.binary, interpolation='nearest')\n",
    "    ax.text(0, 7, str(correct[i]))\n",
    "    ax = fig.add_subplot(1,10, i + 1, xticks=[], yticks=[])\n",
    "    ax.imshow(np.reshape(mydigits[i],(8,8)), cmap=plt.cm.binary, interpolation='nearest')\n",
    "    # label the image with the target value\n",
    "    ax.text(0, 7, str(mypred[i]))\n",
    "plt.show()"
   ]
  },
  {
   "cell_type": "code",
   "execution_count": 446,
   "metadata": {},
   "outputs": [
    {
     "data": {
      "text/plain": [
       "0.69999999999999996"
      ]
     },
     "execution_count": 446,
     "metadata": {},
     "output_type": "execute_result"
    }
   ],
   "source": [
    "knrst.score(mydigits,correct)"
   ]
  },
  {
   "cell_type": "markdown",
   "metadata": {},
   "source": [
    "## Discussion\n",
    "The results of my classifier were quite awful. It resulted in a score of .699 which is not ideal. The nearest neighbor classifier works by identifying a certain number of neighbors closest to it and they vote determine what the test point will be. I chose to have only one neighbor be taken into account because of how many points are being measured (64 pixels) and how unique each character is also helps in this regard. "
   ]
  },
  {
   "cell_type": "code",
   "execution_count": null,
   "metadata": {},
   "outputs": [],
   "source": []
  }
 ],
 "metadata": {
  "kernelspec": {
   "display_name": "Python 3",
   "language": "python",
   "name": "python3"
  },
  "language_info": {
   "codemirror_mode": {
    "name": "ipython",
    "version": 3
   },
   "file_extension": ".py",
   "mimetype": "text/x-python",
   "name": "python",
   "nbconvert_exporter": "python",
   "pygments_lexer": "ipython3",
   "version": "3.6.3"
  }
 },
 "nbformat": 4,
 "nbformat_minor": 2
}
