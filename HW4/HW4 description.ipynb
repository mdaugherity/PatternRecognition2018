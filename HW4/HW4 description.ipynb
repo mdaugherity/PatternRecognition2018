{
 "cells": [
  {
   "cell_type": "markdown",
   "metadata": {},
   "source": [
    "# HW4 - The Cancer Challenge\n",
    "\n",
    "I am giving you two data files containing measurements of potentially cancerous cells.  The data were collected by processing digital microscope images with a program that measures features such as average cell area and perimeter.  Expect a fair amount of redundacy in these features.\n",
    "\n",
    "Let's take a quick look:"
   ]
  },
  {
   "cell_type": "code",
   "execution_count": 17,
   "metadata": {},
   "outputs": [],
   "source": [
    "import pandas as pd\n",
    "data = pd.read_csv('cancer-data.csv')"
   ]
  },
  {
   "cell_type": "code",
   "execution_count": 18,
   "metadata": {},
   "outputs": [
    {
     "data": {
      "text/plain": [
       "(544, 32)"
      ]
     },
     "execution_count": 18,
     "metadata": {},
     "output_type": "execute_result"
    }
   ],
   "source": [
    "data.shape"
   ]
  },
  {
   "cell_type": "code",
   "execution_count": 19,
   "metadata": {},
   "outputs": [
    {
     "data": {
      "text/html": [
       "<div>\n",
       "<style>\n",
       "    .dataframe thead tr:only-child th {\n",
       "        text-align: right;\n",
       "    }\n",
       "\n",
       "    .dataframe thead th {\n",
       "        text-align: left;\n",
       "    }\n",
       "\n",
       "    .dataframe tbody tr th {\n",
       "        vertical-align: top;\n",
       "    }\n",
       "</style>\n",
       "<table border=\"1\" class=\"dataframe\">\n",
       "  <thead>\n",
       "    <tr style=\"text-align: right;\">\n",
       "      <th></th>\n",
       "      <th>ID</th>\n",
       "      <th>Class</th>\n",
       "      <th>F01</th>\n",
       "      <th>F02</th>\n",
       "      <th>F03</th>\n",
       "      <th>F04</th>\n",
       "      <th>F05</th>\n",
       "      <th>F06</th>\n",
       "      <th>F07</th>\n",
       "      <th>F08</th>\n",
       "      <th>...</th>\n",
       "      <th>F21</th>\n",
       "      <th>F22</th>\n",
       "      <th>F23</th>\n",
       "      <th>F24</th>\n",
       "      <th>F25</th>\n",
       "      <th>F26</th>\n",
       "      <th>F27</th>\n",
       "      <th>F28</th>\n",
       "      <th>F29</th>\n",
       "      <th>F30</th>\n",
       "    </tr>\n",
       "  </thead>\n",
       "  <tbody>\n",
       "    <tr>\n",
       "      <th>0</th>\n",
       "      <td>1000</td>\n",
       "      <td>B</td>\n",
       "      <td>1.9110</td>\n",
       "      <td>0.04908</td>\n",
       "      <td>244.5</td>\n",
       "      <td>3.769</td>\n",
       "      <td>24.20</td>\n",
       "      <td>0.009845</td>\n",
       "      <td>0.065900</td>\n",
       "      <td>0.10270</td>\n",
       "      <td>...</td>\n",
       "      <td>0.3135</td>\n",
       "      <td>0.10550</td>\n",
       "      <td>10.060</td>\n",
       "      <td>23.40</td>\n",
       "      <td>68.62</td>\n",
       "      <td>297.1</td>\n",
       "      <td>0.03491</td>\n",
       "      <td>0.007877</td>\n",
       "      <td>0.1221</td>\n",
       "      <td>0.3748</td>\n",
       "    </tr>\n",
       "    <tr>\n",
       "      <th>1</th>\n",
       "      <td>1001</td>\n",
       "      <td>M</td>\n",
       "      <td>0.5906</td>\n",
       "      <td>0.06254</td>\n",
       "      <td>990.0</td>\n",
       "      <td>1.921</td>\n",
       "      <td>35.77</td>\n",
       "      <td>0.004117</td>\n",
       "      <td>0.015600</td>\n",
       "      <td>0.02975</td>\n",
       "      <td>...</td>\n",
       "      <td>0.2842</td>\n",
       "      <td>0.08225</td>\n",
       "      <td>20.380</td>\n",
       "      <td>22.02</td>\n",
       "      <td>133.30</td>\n",
       "      <td>1292.0</td>\n",
       "      <td>0.01295</td>\n",
       "      <td>0.002436</td>\n",
       "      <td>0.1263</td>\n",
       "      <td>0.2666</td>\n",
       "    </tr>\n",
       "    <tr>\n",
       "      <th>2</th>\n",
       "      <td>1002</td>\n",
       "      <td>B</td>\n",
       "      <td>1.8050</td>\n",
       "      <td>0.02583</td>\n",
       "      <td>372.7</td>\n",
       "      <td>1.377</td>\n",
       "      <td>19.08</td>\n",
       "      <td>0.014960</td>\n",
       "      <td>0.021210</td>\n",
       "      <td>0.01453</td>\n",
       "      <td>...</td>\n",
       "      <td>0.1902</td>\n",
       "      <td>0.07313</td>\n",
       "      <td>11.350</td>\n",
       "      <td>16.82</td>\n",
       "      <td>72.01</td>\n",
       "      <td>396.5</td>\n",
       "      <td>0.03082</td>\n",
       "      <td>0.004785</td>\n",
       "      <td>0.1216</td>\n",
       "      <td>0.0824</td>\n",
       "    </tr>\n",
       "    <tr>\n",
       "      <th>3</th>\n",
       "      <td>1003</td>\n",
       "      <td>M</td>\n",
       "      <td>0.8749</td>\n",
       "      <td>0.09711</td>\n",
       "      <td>685.0</td>\n",
       "      <td>3.466</td>\n",
       "      <td>24.19</td>\n",
       "      <td>0.006965</td>\n",
       "      <td>0.062130</td>\n",
       "      <td>0.07926</td>\n",
       "      <td>...</td>\n",
       "      <td>0.2866</td>\n",
       "      <td>0.11550</td>\n",
       "      <td>16.350</td>\n",
       "      <td>27.57</td>\n",
       "      <td>125.40</td>\n",
       "      <td>832.7</td>\n",
       "      <td>0.01499</td>\n",
       "      <td>0.005784</td>\n",
       "      <td>0.1419</td>\n",
       "      <td>0.7090</td>\n",
       "    </tr>\n",
       "    <tr>\n",
       "      <th>4</th>\n",
       "      <td>1004</td>\n",
       "      <td>B</td>\n",
       "      <td>1.4620</td>\n",
       "      <td>0.00000</td>\n",
       "      <td>178.8</td>\n",
       "      <td>2.492</td>\n",
       "      <td>19.14</td>\n",
       "      <td>0.012660</td>\n",
       "      <td>0.009692</td>\n",
       "      <td>0.00000</td>\n",
       "      <td>...</td>\n",
       "      <td>0.3058</td>\n",
       "      <td>0.09938</td>\n",
       "      <td>9.077</td>\n",
       "      <td>30.92</td>\n",
       "      <td>57.17</td>\n",
       "      <td>248.0</td>\n",
       "      <td>0.02882</td>\n",
       "      <td>0.006872</td>\n",
       "      <td>0.1256</td>\n",
       "      <td>0.0834</td>\n",
       "    </tr>\n",
       "  </tbody>\n",
       "</table>\n",
       "<p>5 rows × 32 columns</p>\n",
       "</div>"
      ],
      "text/plain": [
       "     ID Class     F01      F02    F03    F04    F05       F06       F07  \\\n",
       "0  1000     B  1.9110  0.04908  244.5  3.769  24.20  0.009845  0.065900   \n",
       "1  1001     M  0.5906  0.06254  990.0  1.921  35.77  0.004117  0.015600   \n",
       "2  1002     B  1.8050  0.02583  372.7  1.377  19.08  0.014960  0.021210   \n",
       "3  1003     M  0.8749  0.09711  685.0  3.466  24.19  0.006965  0.062130   \n",
       "4  1004     B  1.4620  0.00000  178.8  2.492  19.14  0.012660  0.009692   \n",
       "\n",
       "       F08   ...       F21      F22     F23    F24     F25     F26      F27  \\\n",
       "0  0.10270   ...    0.3135  0.10550  10.060  23.40   68.62   297.1  0.03491   \n",
       "1  0.02975   ...    0.2842  0.08225  20.380  22.02  133.30  1292.0  0.01295   \n",
       "2  0.01453   ...    0.1902  0.07313  11.350  16.82   72.01   396.5  0.03082   \n",
       "3  0.07926   ...    0.2866  0.11550  16.350  27.57  125.40   832.7  0.01499   \n",
       "4  0.00000   ...    0.3058  0.09938   9.077  30.92   57.17   248.0  0.02882   \n",
       "\n",
       "        F28     F29     F30  \n",
       "0  0.007877  0.1221  0.3748  \n",
       "1  0.002436  0.1263  0.2666  \n",
       "2  0.004785  0.1216  0.0824  \n",
       "3  0.005784  0.1419  0.7090  \n",
       "4  0.006872  0.1256  0.0834  \n",
       "\n",
       "[5 rows x 32 columns]"
      ]
     },
     "execution_count": 19,
     "metadata": {},
     "output_type": "execute_result"
    }
   ],
   "source": [
    "data.head()"
   ]
  },
  {
   "cell_type": "markdown",
   "metadata": {},
   "source": [
    "We get an ID number, the diagnosis (M = malignant, B = benign), and 30 mystery features.  "
   ]
  },
  {
   "cell_type": "markdown",
   "metadata": {},
   "source": [
    "And now the other file:"
   ]
  },
  {
   "cell_type": "code",
   "execution_count": 20,
   "metadata": {},
   "outputs": [],
   "source": [
    "new = pd.read_csv('cancer-patients.csv')"
   ]
  },
  {
   "cell_type": "code",
   "execution_count": 21,
   "metadata": {},
   "outputs": [
    {
     "data": {
      "text/html": [
       "<div>\n",
       "<style>\n",
       "    .dataframe thead tr:only-child th {\n",
       "        text-align: right;\n",
       "    }\n",
       "\n",
       "    .dataframe thead th {\n",
       "        text-align: left;\n",
       "    }\n",
       "\n",
       "    .dataframe tbody tr th {\n",
       "        vertical-align: top;\n",
       "    }\n",
       "</style>\n",
       "<table border=\"1\" class=\"dataframe\">\n",
       "  <thead>\n",
       "    <tr style=\"text-align: right;\">\n",
       "      <th></th>\n",
       "      <th>ID</th>\n",
       "      <th>F01</th>\n",
       "      <th>F02</th>\n",
       "      <th>F03</th>\n",
       "      <th>F04</th>\n",
       "      <th>F05</th>\n",
       "      <th>F06</th>\n",
       "      <th>F07</th>\n",
       "      <th>F08</th>\n",
       "      <th>F09</th>\n",
       "      <th>...</th>\n",
       "      <th>F21</th>\n",
       "      <th>F22</th>\n",
       "      <th>F23</th>\n",
       "      <th>F24</th>\n",
       "      <th>F25</th>\n",
       "      <th>F26</th>\n",
       "      <th>F27</th>\n",
       "      <th>F28</th>\n",
       "      <th>F29</th>\n",
       "      <th>F30</th>\n",
       "    </tr>\n",
       "  </thead>\n",
       "  <tbody>\n",
       "    <tr>\n",
       "      <th>0</th>\n",
       "      <td>1544</td>\n",
       "      <td>1.2160</td>\n",
       "      <td>0.11210</td>\n",
       "      <td>1320.0</td>\n",
       "      <td>4.206</td>\n",
       "      <td>75.09</td>\n",
       "      <td>0.006666</td>\n",
       "      <td>0.027910</td>\n",
       "      <td>0.04062</td>\n",
       "      <td>0.014790</td>\n",
       "      <td>...</td>\n",
       "      <td>0.2480</td>\n",
       "      <td>0.08999</td>\n",
       "      <td>23.86</td>\n",
       "      <td>30.76</td>\n",
       "      <td>163.20</td>\n",
       "      <td>1760.0</td>\n",
       "      <td>0.01117</td>\n",
       "      <td>0.003727</td>\n",
       "      <td>0.1464</td>\n",
       "      <td>0.35970</td>\n",
       "    </tr>\n",
       "    <tr>\n",
       "      <th>1</th>\n",
       "      <td>1545</td>\n",
       "      <td>2.1100</td>\n",
       "      <td>0.06618</td>\n",
       "      <td>609.9</td>\n",
       "      <td>2.112</td>\n",
       "      <td>31.72</td>\n",
       "      <td>0.007970</td>\n",
       "      <td>0.135400</td>\n",
       "      <td>0.11660</td>\n",
       "      <td>0.016660</td>\n",
       "      <td>...</td>\n",
       "      <td>0.5166</td>\n",
       "      <td>0.14460</td>\n",
       "      <td>15.74</td>\n",
       "      <td>37.18</td>\n",
       "      <td>106.40</td>\n",
       "      <td>762.4</td>\n",
       "      <td>0.05113</td>\n",
       "      <td>0.011720</td>\n",
       "      <td>0.1533</td>\n",
       "      <td>0.93270</td>\n",
       "    </tr>\n",
       "    <tr>\n",
       "      <th>2</th>\n",
       "      <td>1546</td>\n",
       "      <td>0.8732</td>\n",
       "      <td>0.02864</td>\n",
       "      <td>502.5</td>\n",
       "      <td>1.471</td>\n",
       "      <td>18.33</td>\n",
       "      <td>0.007962</td>\n",
       "      <td>0.005612</td>\n",
       "      <td>0.01585</td>\n",
       "      <td>0.008662</td>\n",
       "      <td>...</td>\n",
       "      <td>0.2383</td>\n",
       "      <td>0.06410</td>\n",
       "      <td>13.46</td>\n",
       "      <td>19.76</td>\n",
       "      <td>85.67</td>\n",
       "      <td>554.9</td>\n",
       "      <td>0.02254</td>\n",
       "      <td>0.001906</td>\n",
       "      <td>0.1296</td>\n",
       "      <td>0.07061</td>\n",
       "    </tr>\n",
       "    <tr>\n",
       "      <th>3</th>\n",
       "      <td>1547</td>\n",
       "      <td>0.7975</td>\n",
       "      <td>0.07951</td>\n",
       "      <td>1130.0</td>\n",
       "      <td>5.486</td>\n",
       "      <td>96.05</td>\n",
       "      <td>0.004444</td>\n",
       "      <td>0.016520</td>\n",
       "      <td>0.02269</td>\n",
       "      <td>0.013700</td>\n",
       "      <td>...</td>\n",
       "      <td>0.2551</td>\n",
       "      <td>0.06589</td>\n",
       "      <td>24.86</td>\n",
       "      <td>26.58</td>\n",
       "      <td>165.90</td>\n",
       "      <td>1866.0</td>\n",
       "      <td>0.01386</td>\n",
       "      <td>0.001698</td>\n",
       "      <td>0.1193</td>\n",
       "      <td>0.23360</td>\n",
       "    </tr>\n",
       "    <tr>\n",
       "      <th>4</th>\n",
       "      <td>1548</td>\n",
       "      <td>1.2900</td>\n",
       "      <td>0.04489</td>\n",
       "      <td>582.7</td>\n",
       "      <td>2.861</td>\n",
       "      <td>43.14</td>\n",
       "      <td>0.005872</td>\n",
       "      <td>0.014880</td>\n",
       "      <td>0.02647</td>\n",
       "      <td>0.009921</td>\n",
       "      <td>...</td>\n",
       "      <td>0.2651</td>\n",
       "      <td>0.07397</td>\n",
       "      <td>16.99</td>\n",
       "      <td>35.27</td>\n",
       "      <td>108.60</td>\n",
       "      <td>906.5</td>\n",
       "      <td>0.01465</td>\n",
       "      <td>0.002355</td>\n",
       "      <td>0.1265</td>\n",
       "      <td>0.19430</td>\n",
       "    </tr>\n",
       "  </tbody>\n",
       "</table>\n",
       "<p>5 rows × 31 columns</p>\n",
       "</div>"
      ],
      "text/plain": [
       "     ID     F01      F02     F03    F04    F05       F06       F07      F08  \\\n",
       "0  1544  1.2160  0.11210  1320.0  4.206  75.09  0.006666  0.027910  0.04062   \n",
       "1  1545  2.1100  0.06618   609.9  2.112  31.72  0.007970  0.135400  0.11660   \n",
       "2  1546  0.8732  0.02864   502.5  1.471  18.33  0.007962  0.005612  0.01585   \n",
       "3  1547  0.7975  0.07951  1130.0  5.486  96.05  0.004444  0.016520  0.02269   \n",
       "4  1548  1.2900  0.04489   582.7  2.861  43.14  0.005872  0.014880  0.02647   \n",
       "\n",
       "        F09   ...        F21      F22    F23    F24     F25     F26      F27  \\\n",
       "0  0.014790   ...     0.2480  0.08999  23.86  30.76  163.20  1760.0  0.01117   \n",
       "1  0.016660   ...     0.5166  0.14460  15.74  37.18  106.40   762.4  0.05113   \n",
       "2  0.008662   ...     0.2383  0.06410  13.46  19.76   85.67   554.9  0.02254   \n",
       "3  0.013700   ...     0.2551  0.06589  24.86  26.58  165.90  1866.0  0.01386   \n",
       "4  0.009921   ...     0.2651  0.07397  16.99  35.27  108.60   906.5  0.01465   \n",
       "\n",
       "        F28     F29      F30  \n",
       "0  0.003727  0.1464  0.35970  \n",
       "1  0.011720  0.1533  0.93270  \n",
       "2  0.001906  0.1296  0.07061  \n",
       "3  0.001698  0.1193  0.23360  \n",
       "4  0.002355  0.1265  0.19430  \n",
       "\n",
       "[5 rows x 31 columns]"
      ]
     },
     "execution_count": 21,
     "metadata": {},
     "output_type": "execute_result"
    }
   ],
   "source": [
    "new.head()"
   ]
  },
  {
   "cell_type": "code",
   "execution_count": 16,
   "metadata": {},
   "outputs": [
    {
     "data": {
      "text/plain": [
       "(25, 31)"
      ]
     },
     "execution_count": 16,
     "metadata": {},
     "output_type": "execute_result"
    }
   ],
   "source": [
    "new.shape"
   ]
  },
  {
   "cell_type": "markdown",
   "metadata": {},
   "source": [
    "So we have 25 cell samples to classify.  We are going to emulate Kaggle here, so along with your report you must submit a *csv* file with two columns: ID and Class.  An example is provided for you."
   ]
  },
  {
   "cell_type": "markdown",
   "metadata": {},
   "source": [
    "# SCORING\n",
    "\n"
   ]
  },
  {
   "cell_type": "markdown",
   "metadata": {},
   "source": [
    "To keep things interesting, I will calculate scores for your submissions:\n",
    "* +10 points for a true positive\n",
    "* +10 points for a true negative\n",
    "* -1 point for a false positive\n",
    "* -5 points for a false negative\n",
    "\n",
    "\n",
    "Do well."
   ]
  },
  {
   "cell_type": "markdown",
   "metadata": {},
   "source": [
    "***"
   ]
  },
  {
   "cell_type": "markdown",
   "metadata": {},
   "source": [
    "Name: Dr D  \n",
    "Class: Pattern Recognition Spring 2018\n",
    "\n",
    "# TITLE \n",
    "A one-sentance summary of what happens here"
   ]
  },
  {
   "cell_type": "markdown",
   "metadata": {},
   "source": [
    "## Problem Description\n",
    "goes here\n"
   ]
  },
  {
   "cell_type": "markdown",
   "metadata": {},
   "source": [
    "## Solution Method\n",
    "Your plan of attack.  Explain what you are going do to solve the stated problem.\n"
   ]
  },
  {
   "cell_type": "markdown",
   "metadata": {},
   "source": [
    "## Input\n",
    "Load and pre-process data"
   ]
  },
  {
   "cell_type": "markdown",
   "metadata": {},
   "source": [
    "## Analysis\n",
    "Do all the work here\n"
   ]
  },
  {
   "cell_type": "markdown",
   "metadata": {},
   "source": [
    "## Results\n",
    "Produce the lovely plots and/or data tables that best visualization your solution"
   ]
  },
  {
   "cell_type": "markdown",
   "metadata": {},
   "source": [
    "## Discussion\n",
    "Explain and interpret your results.  Explain how your results solve the problem.  Also describe anything interesting you discovered along the way, or lessons learned, or how you overcame problems you encountered.     "
   ]
  }
 ],
 "metadata": {
  "kernelspec": {
   "display_name": "Python 3",
   "language": "python",
   "name": "python3"
  },
  "language_info": {
   "codemirror_mode": {
    "name": "ipython",
    "version": 3
   },
   "file_extension": ".py",
   "mimetype": "text/x-python",
   "name": "python",
   "nbconvert_exporter": "python",
   "pygments_lexer": "ipython3",
   "version": "3.6.3"
  }
 },
 "nbformat": 4,
 "nbformat_minor": 2
}
